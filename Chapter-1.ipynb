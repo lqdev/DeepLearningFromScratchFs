{
 "cells": [
  {
   "cell_type": "markdown",
   "metadata": {},
   "source": [
    "# Chapter 1\n",
    "\n",
    "Code contained in this notebook is from Chapter 1"
   ]
  },
  {
   "cell_type": "markdown",
   "metadata": {},
   "source": [
    "### Reference NuGet packages\n",
    "\n",
    "The main Python package used throughout this book is NumPy. I'm using the .NET equivalent [NumSharp](https://github.com/SciSharp/NumSharp), a high performance computation for N-D Tensors in .NET, similar API to NumPy."
   ]
  },
  {
   "cell_type": "code",
   "execution_count": 1,
   "metadata": {},
   "outputs": [],
   "source": [
    "#r \"nuget:NumSharp\""
   ]
  },
  {
   "cell_type": "code",
   "execution_count": 3,
   "metadata": {},
   "outputs": [],
   "source": [
    "open NumSharp"
   ]
  },
  {
   "cell_type": "markdown",
   "metadata": {},
   "source": [
    "### Page 4"
   ]
  },
  {
   "cell_type": "code",
   "execution_count": 5,
   "metadata": {},
   "outputs": [],
   "source": [
    "let a = np.array([|1;2;3|])\n",
    "let b = np.array([|4;5;6|])"
   ]
  },
  {
   "cell_type": "code",
   "execution_count": 7,
   "metadata": {},
   "outputs": [
    {
     "name": "stdout",
     "output_type": "stream",
     "text": [
      "[5, 7, 9]\n"
     ]
    },
    {
     "data": {
      "text/html": [
       "<null>"
      ]
     },
     "execution_count": 7,
     "metadata": {},
     "output_type": "execute_result"
    }
   ],
   "source": [
    "printfn \"%O\" (a + b)"
   ]
  },
  {
   "cell_type": "code",
   "execution_count": 8,
   "metadata": {},
   "outputs": [
    {
     "name": "stdout",
     "output_type": "stream",
     "text": [
      "[4, 10, 18]\n"
     ]
    },
    {
     "data": {
      "text/html": [
       "<null>"
      ]
     },
     "execution_count": 8,
     "metadata": {},
     "output_type": "execute_result"
    }
   ],
   "source": [
    "printfn \"%O\" (a * b)"
   ]
  },
  {
   "cell_type": "markdown",
   "metadata": {},
   "source": [
    "### Page 5"
   ]
  },
  {
   "cell_type": "code",
   "execution_count": 18,
   "metadata": {},
   "outputs": [],
   "source": [
    "let a = np.array(\n",
    "    [|\n",
    "        [|1;2|]\n",
    "        [|3;4|]\n",
    "    |])"
   ]
  },
  {
   "cell_type": "code",
   "execution_count": 19,
   "metadata": {},
   "outputs": [
    {
     "name": "stdout",
     "output_type": "stream",
     "text": [
      "[4, 6]\n"
     ]
    },
    {
     "data": {
      "text/html": [
       "<null>"
      ]
     },
     "execution_count": 19,
     "metadata": {},
     "output_type": "execute_result"
    }
   ],
   "source": [
    "// Sum all of the rows in each column\n",
    "printfn \"%O\" (a.sum(0))"
   ]
  },
  {
   "cell_type": "code",
   "execution_count": 20,
   "metadata": {},
   "outputs": [
    {
     "name": "stdout",
     "output_type": "stream",
     "text": [
      "[3, 7]\n"
     ]
    },
    {
     "data": {
      "text/html": [
       "<null>"
      ]
     },
     "execution_count": 20,
     "metadata": {},
     "output_type": "execute_result"
    }
   ],
   "source": [
    "// Sum all of the columns in each row\n",
    "printfn \"%O\" (a.sum(1))"
   ]
  },
  {
   "cell_type": "code",
   "execution_count": 21,
   "metadata": {},
   "outputs": [],
   "source": [
    "let a = np.array(\n",
    "    [|\n",
    "        [|1;2;3|]\n",
    "        [|4;5;6|]\n",
    "    |])\n",
    "\n",
    "let b = np.array([|10;20;30|])"
   ]
  },
  {
   "cell_type": "code",
   "execution_count": 22,
   "metadata": {},
   "outputs": [
    {
     "name": "stdout",
     "output_type": "stream",
     "text": [
      "[[11, 22, 33], \n",
      "[14, 25, 36]]\n"
     ]
    },
    {
     "data": {
      "text/html": [
       "<null>"
      ]
     },
     "execution_count": 22,
     "metadata": {},
     "output_type": "execute_result"
    }
   ],
   "source": [
    "printfn \"%O\" (a + b)"
   ]
  },
  {
   "cell_type": "markdown",
   "metadata": {},
   "source": [
    "### Basic functions in NumPy (Page 6)"
   ]
  },
  {
   "cell_type": "code",
   "execution_count": 23,
   "metadata": {},
   "outputs": [],
   "source": [
    "let square (x:NDArray) = \n",
    "    np.square(&x)"
   ]
  },
  {
   "cell_type": "code",
   "execution_count": 24,
   "metadata": {},
   "outputs": [],
   "source": [
    "let leakyRelu (x:NDArray) = \n",
    "    let boundRef = 0.2 * x\n",
    "    np.maximum(&boundRef,&x)"
   ]
  },
  {
   "cell_type": "code",
   "execution_count": 33,
   "metadata": {},
   "outputs": [
    {
     "data": {
      "text/html": [
       "<table><thead><tr><th><i>index</i></th><th>value</th></tr></thead><tbody><tr><td>0</td><td>4</td></tr><tr><td>1</td><td>1</td></tr><tr><td>2</td><td>0</td></tr><tr><td>3</td><td>1</td></tr><tr><td>4</td><td>4</td></tr><tr><td>5</td><td>9</td></tr></tbody></table>"
      ]
     },
     "execution_count": 33,
     "metadata": {},
     "output_type": "execute_result"
    }
   ],
   "source": [
    "let a = np.arange(-2,4)\n",
    "a |> square"
   ]
  },
  {
   "cell_type": "code",
   "execution_count": 34,
   "metadata": {},
   "outputs": [
    {
     "data": {
      "text/html": [
       "<table><thead><tr><th><i>index</i></th><th>value</th></tr></thead><tbody><tr><td>0</td><td>-0.4</td></tr><tr><td>1</td><td>-0.2</td></tr><tr><td>2</td><td>0</td></tr><tr><td>3</td><td>1</td></tr><tr><td>4</td><td>2</td></tr><tr><td>5</td><td>3</td></tr></tbody></table>"
      ]
     },
     "execution_count": 34,
     "metadata": {},
     "output_type": "execute_result"
    }
   ],
   "source": [
    "a |> leakyRelu"
   ]
  },
  {
   "cell_type": "markdown",
   "metadata": {},
   "source": [
    "## Derivatives (Page 8)"
   ]
  },
  {
   "cell_type": "code",
   "execution_count": 138,
   "metadata": {},
   "outputs": [],
   "source": [
    "let deriv (delta:float) (f:NDArray -> NDArray) (input:NDArray) = \n",
    "    (((input + delta) |> square) - ((input - delta) |> square)) / (2. * delta)"
   ]
  },
  {
   "cell_type": "code",
   "execution_count": 139,
   "metadata": {},
   "outputs": [],
   "source": [
    "// Partially apply the default delta value 0.001 to deriv function\n",
    "let (derivDefault:(NDArray -> NDArray) -> NDArray -> NDArray) = deriv 0.001"
   ]
  },
  {
   "cell_type": "code",
   "execution_count": 140,
   "metadata": {},
   "outputs": [
    {
     "data": {
      "text/html": [
       "<table><thead><tr><th><i>index</i></th><th>value</th></tr></thead><tbody><tr><td>0</td><td>-3.9999999999995595</td></tr><tr><td>1</td><td>-1.9999999999998352</td></tr><tr><td>2</td><td>0</td></tr><tr><td>3</td><td>1.9999999999998352</td></tr><tr><td>4</td><td>3.9999999999995595</td></tr><tr><td>5</td><td>5.999999999999339</td></tr></tbody></table>"
      ]
     },
     "execution_count": 140,
     "metadata": {},
     "output_type": "execute_result"
    }
   ],
   "source": [
    "derivDefault square a"
   ]
  },
  {
   "cell_type": "markdown",
   "metadata": {},
   "source": [
    "### Nested Functions (Page 10)"
   ]
  },
  {
   "cell_type": "code",
   "execution_count": 141,
   "metadata": {},
   "outputs": [],
   "source": [
    "let chainLength2 f input = input |> f"
   ]
  },
  {
   "cell_type": "code",
   "execution_count": 142,
   "metadata": {},
   "outputs": [
    {
     "data": {
      "text/html": [
       "<table><thead><tr><th><i>index</i></th><th>value</th></tr></thead><tbody><tr><td>0</td><td>0.16000000000000003</td></tr><tr><td>1</td><td>0.04000000000000001</td></tr><tr><td>2</td><td>0</td></tr><tr><td>3</td><td>1</td></tr><tr><td>4</td><td>4</td></tr><tr><td>5</td><td>9</td></tr></tbody></table>"
      ]
     },
     "execution_count": 142,
     "metadata": {},
     "output_type": "execute_result"
    }
   ],
   "source": [
    "// In this case, when functions are nested, composition can be used.\n",
    "a |> chainLength2 (leakyRelu >> square)"
   ]
  },
  {
   "cell_type": "markdown",
   "metadata": {},
   "source": [
    "### The Chain Rule (Page 12 & 13)"
   ]
  },
  {
   "cell_type": "code",
   "execution_count": 143,
   "metadata": {},
   "outputs": [],
   "source": [
    "let sigmoid (x:NDArray) = \n",
    "    let negXRef = -1 * x\n",
    "    1 / (1 + np.exp(&negXRef))"
   ]
  },
  {
   "cell_type": "code",
   "execution_count": 144,
   "metadata": {},
   "outputs": [],
   "source": [
    "// Uses chain rule to compute derivative of two nested functions\n",
    "// (f2(f1(x)))' = f2'(f1(x)) * f1'(x)\n",
    "\n",
    "let chainDeriv2 f1 f2 (input:NDArray) = \n",
    "    let f1OfX = input |> f1 // df1 / dx\n",
    "    let df1dx = input |> derivDefault f1 // df1/du\n",
    "    let df2du = f1OfX |> derivDefault f2 // df2/du(f1(x))\n",
    "    df1dx * df2du"
   ]
  },
  {
   "cell_type": "code",
   "execution_count": 145,
   "metadata": {},
   "outputs": [
    {
     "data": {
      "text/html": [
       "<table><thead><tr><th><i>index</i></th><th>value</th></tr></thead><tbody><tr><td>0</td><td>-32.00000000000361</td></tr><tr><td>1</td><td>-3.999999999999341</td></tr><tr><td>2</td><td>0</td></tr><tr><td>3</td><td>3.999999999999341</td></tr><tr><td>4</td><td>32.00000000000361</td></tr><tr><td>5</td><td>107.99999999990693</td></tr></tbody></table>"
      ]
     },
     "execution_count": 145,
     "metadata": {},
     "output_type": "execute_result"
    }
   ],
   "source": [
    "a |> chainDeriv2 square sigmoid"
   ]
  },
  {
   "cell_type": "code",
   "execution_count": 146,
   "metadata": {},
   "outputs": [
    {
     "data": {
      "text/html": [
       "<table><thead><tr><th><i>index</i></th><th>value</th></tr></thead><tbody><tr><td>0</td><td>-0.9536233761768359</td></tr><tr><td>1</td><td>-1.075765685479896</td></tr><tr><td>2</td><td>0</td></tr><tr><td>3</td><td>2.924234314519806</td></tr><tr><td>4</td><td>7.046376623822349</td></tr><tr><td>5</td><td>11.430889521867844</td></tr></tbody></table>"
      ]
     },
     "execution_count": 146,
     "metadata": {},
     "output_type": "execute_result"
    }
   ],
   "source": [
    "a |> chainDeriv2 sigmoid square"
   ]
  },
  {
   "cell_type": "markdown",
   "metadata": {},
   "source": [
    "### A Slightly Longer Example (Page 15 & 16)"
   ]
  },
  {
   "cell_type": "code",
   "execution_count": 147,
   "metadata": {},
   "outputs": [],
   "source": [
    "// Uses chain rule to compute derivative of two nested functions\n",
    "// (f3(f2(f1(x))))' = f3'(f2(f1(x))) * f2'(f1(x)) * f1'(x)\n",
    "\n",
    "let chainDeriv3 f1 f2 f3 (input:NDArray) = \n",
    "    let f1OfX = input |> f1 // f1(x)\n",
    "    let f2OfX = f1OfX |> f2 // (f2(f1(x)))\n",
    "    let df3du = f2OfX |> derivDefault f3\n",
    "    let df2du = f1OfX |> derivDefault f2\n",
    "    let df1dx = input |> derivDefault f1\n",
    "    df1dx * df2du * df3du"
   ]
  },
  {
   "cell_type": "code",
   "execution_count": 148,
   "metadata": {},
   "outputs": [
    {
     "data": {
      "text/html": [
       "<table><thead><tr><th><i>index</i></th><th>value</th></tr></thead><tbody><tr><td>0</td><td>2.568398975280063</td></tr><tr><td>1</td><td>0.7202656042999724</td></tr><tr><td>2</td><td>0</td></tr><tr><td>3</td><td>5.84846862903913</td></tr><tr><td>4</td><td>28.18550649528629</td></tr><tr><td>5</td><td>68.58533713119951</td></tr></tbody></table>"
      ]
     },
     "execution_count": 148,
     "metadata": {},
     "output_type": "execute_result"
    }
   ],
   "source": [
    "a |> chainDeriv3 leakyRelu sigmoid square"
   ]
  },
  {
   "cell_type": "markdown",
   "metadata": {},
   "source": [
    "### Functions with Multiple Inputs (Page 18)"
   ]
  },
  {
   "cell_type": "code",
   "execution_count": 149,
   "metadata": {},
   "outputs": [],
   "source": [
    "let multipleInputsAdd (sigma) (x:NDArray) (y:NDArray) = \n",
    "    sigma (x + y)"
   ]
  },
  {
   "cell_type": "code",
   "execution_count": 150,
   "metadata": {},
   "outputs": [
    {
     "data": {
      "text/html": [
       "<table><thead><tr><th><i>index</i></th><th>value</th></tr></thead><tbody><tr><td>0</td><td>16</td></tr><tr><td>1</td><td>4</td></tr><tr><td>2</td><td>0</td></tr><tr><td>3</td><td>4</td></tr><tr><td>4</td><td>16</td></tr><tr><td>5</td><td>36</td></tr></tbody></table>"
      ]
     },
     "execution_count": 150,
     "metadata": {},
     "output_type": "execute_result"
    }
   ],
   "source": [
    "a |> multipleInputsAdd square a"
   ]
  },
  {
   "cell_type": "markdown",
   "metadata": {},
   "source": [
    "### Derivatives of Functions with Multiple Inputs (Page 20)"
   ]
  },
  {
   "cell_type": "code",
   "execution_count": 151,
   "metadata": {},
   "outputs": [],
   "source": [
    "let multipleInputsAddBackwards (sigma) (x:NDArray) (y:NDArray) = \n",
    "    let a = x + y // Compute forward pass\n",
    "    let dsda = a |> derivDefault sigma\n",
    "    let dadx,dady = 1,1\n",
    "    dsda * dadx, dsda * dady"
   ]
  },
  {
   "cell_type": "code",
   "execution_count": 152,
   "metadata": {},
   "outputs": [
    {
     "data": {
      "text/html": [
       "<table><thead><tr><th>Item1</th><th>Item2</th></tr></thead><tbody><tr><td>[ -8.000000000001783, -3.9999999999995595, 0, 3.9999999999995595, 8.000000000001783, 12.000000000004007 ]</td><td>[ -8.000000000001783, -3.9999999999995595, 0, 3.9999999999995595, 8.000000000001783, 12.000000000004007 ]</td></tr></tbody></table>"
      ]
     },
     "execution_count": 152,
     "metadata": {},
     "output_type": "execute_result"
    }
   ],
   "source": [
    "a |> multipleInputsAddBackwards square a"
   ]
  },
  {
   "cell_type": "markdown",
   "metadata": {},
   "source": [
    "### Creating New Features from Existing Features (Page 23)"
   ]
  },
  {
   "cell_type": "code",
   "execution_count": 153,
   "metadata": {},
   "outputs": [],
   "source": [
    "let matmulForward (x:NDArray) (w:NDArray) = \n",
    "    np.dot(&x,&w)"
   ]
  },
  {
   "cell_type": "markdown",
   "metadata": {},
   "source": [
    "### Derivatives of Functions with Multiple Vector Inputs (Page 25)"
   ]
  },
  {
   "cell_type": "code",
   "execution_count": 154,
   "metadata": {},
   "outputs": [],
   "source": [
    "let matmulBackwardFirst (x:NDArray) (w:NDArray) = \n",
    "    np.transpose(&w,[|1;0|])"
   ]
  },
  {
   "cell_type": "markdown",
   "metadata": {},
   "source": [
    "### Vector Functions and Their Derivatives: One Step Further (Page 26 & 27)"
   ]
  },
  {
   "cell_type": "code",
   "execution_count": 155,
   "metadata": {},
   "outputs": [],
   "source": [
    "let matrixForwardExtra sigma (x: NDArray) (w:NDArray) = \n",
    "    sigma (np.dot(&x,&w))"
   ]
  },
  {
   "cell_type": "markdown",
   "metadata": {},
   "source": [
    "### Vector Functions and Their Derivatives: The Backward Pass (Page 28)"
   ]
  },
  {
   "cell_type": "code",
   "execution_count": 156,
   "metadata": {},
   "outputs": [],
   "source": [
    "let matrixFunctionBackward1 sigma (x:NDArray) (w:NDArray) = \n",
    "    let dSdN = \n",
    "        np.dot(&x,&w) \n",
    "        |> derivDefault sigma \n",
    "    let dNdX = np.transpose(&w,[|1;0|])\n",
    "    np.dot(&dSdN,&dNdX)"
   ]
  },
  {
   "cell_type": "code",
   "execution_count": 157,
   "metadata": {},
   "outputs": [],
   "source": [
    "np.random.seed(190203)\n",
    "\n",
    "let mutable X = np.random.randn(1,3)\n",
    "let mutable W = np.random.randn(3,1)"
   ]
  },
  {
   "cell_type": "code",
   "execution_count": 158,
   "metadata": {},
   "outputs": [
    {
     "name": "stdout",
     "output_type": "stream",
     "text": [
      "[[0.6517049161665682, -0.2665717649668461, 0.15257241764676238]]\n",
      "[[-1.2805654524680707], \n",
      "[0.6660628214506024], \n",
      "[1.3664369275290302]]\n"
     ]
    },
    {
     "data": {
      "text/html": [
       "<null>"
      ]
     },
     "execution_count": 158,
     "metadata": {},
     "output_type": "execute_result"
    }
   ],
   "source": [
    "printfn \"%O\" X\n",
    "printfn \"%O\" W"
   ]
  },
  {
   "cell_type": "code",
   "execution_count": 159,
   "metadata": {},
   "outputs": [
    {
     "data": {
      "text/html": [
       "<table><thead><tr><th><i>index</i></th><th>value</th></tr></thead><tbody><tr><td>0</td><td>-1.2805654524680707</td></tr><tr><td>1</td><td>0.6660628214506024</td></tr><tr><td>2</td><td>1.3664369275290302</td></tr></tbody></table>"
      ]
     },
     "execution_count": 159,
     "metadata": {},
     "output_type": "execute_result"
    }
   ],
   "source": [
    "W |> matmulBackwardFirst X"
   ]
  },
  {
   "cell_type": "code",
   "execution_count": 160,
   "metadata": {},
   "outputs": [
    {
     "data": {
      "text/html": [
       "<table><thead><tr><th><i>index</i></th><th>value</th></tr></thead><tbody><tr><td>0</td><td>2.058185640363648</td></tr><tr><td>1</td><td>-1.0705278141367844</td></tr><tr><td>2</td><td>-2.196202355203703</td></tr></tbody></table>"
      ]
     },
     "execution_count": 160,
     "metadata": {},
     "output_type": "execute_result"
    }
   ],
   "source": [
    "W |> matrixFunctionBackward1 sigmoid X"
   ]
  },
  {
   "cell_type": "markdown",
   "metadata": {},
   "source": [
    "### Computational Graph with Two 2D Matrix Inputs (Page 32 & 33)"
   ]
  },
  {
   "cell_type": "code",
   "execution_count": 182,
   "metadata": {},
   "outputs": [],
   "source": [
    "let matrixFunctionForwardSum sigma (x:NDArray) (w:NDArray) = \n",
    "    np.dot(&x,&w)\n",
    "    |> sigma\n",
    "    |> (fun s -> np.sum(&s))"
   ]
  },
  {
   "cell_type": "markdown",
   "metadata": {},
   "source": [
    "### The Fun Part: The Backward Pass (Page 36 & 37)"
   ]
  },
  {
   "cell_type": "code",
   "execution_count": 274,
   "metadata": {},
   "outputs": [],
   "source": [
    "let matrixFunctionBackwardSum1 sigma (x:NDArray) (w:NDArray) = \n",
    "    \n",
    "    let n = np.dot(&x,&w)\n",
    "    let s = n |> sigma\n",
    "    \n",
    "    let l = np.sum(&s)\n",
    "    \n",
    "    let dLdS = np.ones_like(s)\n",
    "    \n",
    "    let dSdN = n |> derivDefault sigma\n",
    "    \n",
    "    let dLdN = dLdS * dSdN\n",
    "    \n",
    "    let dNdX = np.transpose(&w,[|1;0|])\n",
    "    \n",
    "    let dLdX = np.dot(&dSdN,&dNdX)\n",
    "    \n",
    "    dLdX"
   ]
  },
  {
   "cell_type": "code",
   "execution_count": 264,
   "metadata": {},
   "outputs": [],
   "source": [
    "np.random.seed(190204)\n",
    "let mutable X = np.random.randn(3, 3)\n",
    "let mutable W = np.random.randn(3, 2)"
   ]
  },
  {
   "cell_type": "code",
   "execution_count": 267,
   "metadata": {},
   "outputs": [
    {
     "name": "stdout",
     "output_type": "stream",
     "text": [
      "[[-0.4707108518250129, -0.4073042029369584, -0.6718479169964316], \n",
      "[0.37199226326492474, -0.9571555864958323, -0.138096246939663], \n",
      "[-0.7858376421341436, -0.6082089767864743, -1.5645461870890807]]\n"
     ]
    },
    {
     "data": {
      "text/html": [
       "<null>"
      ]
     },
     "execution_count": 267,
     "metadata": {},
     "output_type": "execute_result"
    }
   ],
   "source": [
    "printfn \"%O\" X"
   ]
  },
  {
   "cell_type": "code",
   "execution_count": 268,
   "metadata": {},
   "outputs": [
    {
     "name": "stdout",
     "output_type": "stream",
     "text": [
      "[[-1.2961954688807813, 0.6487867969024643], \n",
      "[-0.1065787241222262, 0.08297097027790185], \n",
      "[0.8741833058411873, 0.8977530234810445]]\n"
     ]
    },
    {
     "data": {
      "text/html": [
       "<null>"
      ]
     },
     "execution_count": 268,
     "metadata": {},
     "output_type": "execute_result"
    }
   ],
   "source": [
    "printfn \"%O\" W"
   ]
  },
  {
   "cell_type": "code",
   "execution_count": 269,
   "metadata": {},
   "outputs": [
    {
     "data": {
      "text/html": [
       "<table><thead><tr><th><i>index</i></th><th>value</th></tr></thead><tbody><tr><td>0</td><td>3</td></tr><tr><td>1</td><td>2</td></tr></tbody></table>"
      ]
     },
     "execution_count": 269,
     "metadata": {},
     "output_type": "execute_result"
    }
   ],
   "source": [
    "let n = np.dot(&X,&W)\n",
    "n.shape"
   ]
  },
  {
   "cell_type": "code",
   "execution_count": 270,
   "metadata": {},
   "outputs": [
    {
     "data": {
      "text/html": [
       "<table><thead><tr><th><i>index</i></th><th>value</th></tr></thead><tbody><tr><td>0</td><td>3</td></tr><tr><td>1</td><td>2</td></tr></tbody></table>"
      ]
     },
     "execution_count": 270,
     "metadata": {},
     "output_type": "execute_result"
    }
   ],
   "source": [
    "let s = n |> sigmoid\n",
    "s.shape"
   ]
  },
  {
   "cell_type": "code",
   "execution_count": 271,
   "metadata": {},
   "outputs": [
    {
     "data": {
      "text/html": [
       "<table><thead><tr><th><i>index</i></th><th>value</th></tr></thead><tbody><tr><td>0</td><td>2.236142898649634</td></tr></tbody></table>"
      ]
     },
     "execution_count": 271,
     "metadata": {},
     "output_type": "execute_result"
    }
   ],
   "source": [
    "W |> matrixFunctionForwardSum sigmoid X"
   ]
  },
  {
   "cell_type": "code",
   "execution_count": 276,
   "metadata": {},
   "outputs": [
    {
     "data": {
      "text/html": [
       "<table><thead><tr><th><i>index</i></th><th>value</th></tr></thead><tbody><tr><td>0</td><td>-1.394435181679182</td></tr><tr><td>1</td><td>-0.1704898998459658</td></tr><tr><td>2</td><td>-1.5761896272017915</td></tr><tr><td>3</td><td>1.3477308594257367</td></tr><tr><td>4</td><td>0.11306478982094165</td></tr><tr><td>5</td><td>-0.8075866934981928</td></tr><tr><td>6</td><td>-1.8126156368421333</td></tr><tr><td>7</td><td>-0.2654599904240112</td></tr><tr><td>8</td><td>-4.024979054804085</td></tr></tbody></table>"
      ]
     },
     "execution_count": 276,
     "metadata": {},
     "output_type": "execute_result"
    }
   ],
   "source": [
    "W |> matrixFunctionBackwardSum1 sigmoid X"
   ]
  }
 ],
 "metadata": {
  "kernelspec": {
   "display_name": ".NET (F#)",
   "language": "F#",
   "name": ".net-fsharp"
  },
  "language_info": {
   "file_extension": ".fs",
   "mimetype": "text/x-fsharp",
   "name": "C#",
   "pygments_lexer": "fsharp",
   "version": "4.5"
  }
 },
 "nbformat": 4,
 "nbformat_minor": 2
}
